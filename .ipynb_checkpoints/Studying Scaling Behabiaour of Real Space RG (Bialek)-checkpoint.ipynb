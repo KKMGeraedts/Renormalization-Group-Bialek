{
 "cells": [
  {
   "cell_type": "markdown",
   "id": "67f6f729",
   "metadata": {},
   "source": [
    "# Scaling Behaviour of Real Space RG (Bialek Inspired)\n",
    "In this notebook I will study the scaling behaviour of the real space renormalization group (RG) inspired technique that Bialek et al. 2020 proposed. In this paper they propose a greedy pairwise coarse-graining procedure. They test their algorithm on a dataset containing neuronal data of a mouse. \n",
    "\n",
    "Here we consider the same procedure but instead use data sampled from an Ising model and compare it with a Bernoulli (p=0.5) dataset that has 1) no correlation and 2) is maximally correlated.\n",
    "\n",
    "Furthermore, we compare the pairwise coarse-graining procedure with a random pairwise coarse-graining procedure and study how the scaling is influenced by the change in procedure."
   ]
  },
  {
   "cell_type": "code",
   "execution_count": 1,
   "id": "0f62c700",
   "metadata": {},
   "outputs": [],
   "source": [
    "import numpy as np\n",
    "import matplotlib.pyplot\n",
    "import real_spaceV2 as rg"
   ]
  },
  {
   "cell_type": "markdown",
   "id": "028cd1ea",
   "metadata": {},
   "source": [
    "## "
   ]
  },
  {
   "cell_type": "code",
   "execution_count": 2,
   "id": "97d0f71e",
   "metadata": {},
   "outputs": [
    {
     "name": "stdout",
     "output_type": "stream",
     "text": [
      "Dataset has shape = (4000, 120). There are more features than data points! Do you want to transpose the data? yes\n",
      "Dataset does not contain binary values. Found 480000 unique values.\n"
     ]
    },
    {
     "data": {
      "text/plain": [
       "(120, 4000)"
      ]
     },
     "execution_count": 2,
     "metadata": {},
     "output_type": "execute_result"
    }
   ],
   "source": [
    "# Initialize a RGObject\n",
    "RG_object = rg.RGObject()\n",
    "\n",
    "# Load dataset\n",
    "input_file = \"input/gaussian_distribution_data.npy\"\n",
    "RG_object.load_dataset(input_file)\n",
    "\n",
    "RG_object.X.shape"
   ]
  },
  {
   "cell_type": "code",
   "execution_count": 3,
   "id": "5f0a0544",
   "metadata": {},
   "outputs": [
    {
     "name": "stdout",
     "output_type": "stream",
     "text": [
      "Finished coarse-graining!\n"
     ]
    },
    {
     "name": "stderr",
     "output_type": "stream",
     "text": [
      "/home/karelgeraedts/Documents/uni/Master_Theses/code/Renormalization-Group-Bialek/pairwise_clustering_bialek.py:36: VisibleDeprecationWarning: Creating an ndarray from ragged nested sequences (which is a list-or-tuple of lists-or-tuples-or ndarrays with different lengths or shapes) is deprecated. If you meant to do this, you must specify 'dtype=object' when creating the ndarray.\n",
      "  return np.array(X_list), np.array(clusters_list), np.array(coupling_parameters)\n"
     ]
    }
   ],
   "source": [
    "# Perform real space RG\n",
    "method = \"pairwise_clustering_bialek\"\n",
    "steps = 5\n",
    "RG_object.perform_real_space_coarse_graining(method, steps)"
   ]
  },
  {
   "cell_type": "code",
   "execution_count": null,
   "id": "7860017f",
   "metadata": {},
   "outputs": [],
   "source": [
    "# Extract data \n",
    "self.Xs, self.clusters, self.couplings = RG_object.extract_data()"
   ]
  }
 ],
 "metadata": {
  "kernelspec": {
   "display_name": "Python 3 (ipykernel)",
   "language": "python",
   "name": "python3"
  },
  "language_info": {
   "codemirror_mode": {
    "name": "ipython",
    "version": 3
   },
   "file_extension": ".py",
   "mimetype": "text/x-python",
   "name": "python",
   "nbconvert_exporter": "python",
   "pygments_lexer": "ipython3",
   "version": "3.10.6"
  }
 },
 "nbformat": 4,
 "nbformat_minor": 5
}
